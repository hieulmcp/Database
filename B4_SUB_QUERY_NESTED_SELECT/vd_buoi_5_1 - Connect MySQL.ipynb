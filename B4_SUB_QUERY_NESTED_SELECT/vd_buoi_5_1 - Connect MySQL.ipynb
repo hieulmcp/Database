{
 "cells": [
  {
   "cell_type": "code",
   "execution_count": 1,
   "metadata": {},
   "outputs": [],
   "source": [
    "from mysql.connector import connect"
   ]
  },
  {
   "cell_type": "code",
   "execution_count": 2,
   "metadata": {},
   "outputs": [],
   "source": [
    "# tạo connection\n",
    "# tạo cursur de thuc hien cau truy van\n",
    "# doc va xu ly ket qua tra ve\n",
    "# dong cursor, dong connection"
   ]
  },
  {
   "cell_type": "code",
   "execution_count": 3,
   "metadata": {},
   "outputs": [],
   "source": [
    "# Buoc 1: Tao connection\n",
    "# chuan bi thong tin ket noi\n",
    "server = 'phpmyadmin.laptrinhphp.net'\n",
    "db = 'gd_salesdb'\n",
    "username = 'hv'\n",
    "pwd = '123456'\n",
    "\n",
    "conn = connect(host=server, database=db, user=username, password=pwd)"
   ]
  },
  {
   "cell_type": "code",
   "execution_count": 4,
   "metadata": {},
   "outputs": [],
   "source": [
    "# Buoc 2: Tao cursor de thuc hien cau truy van\n",
    "sql = '''\n",
    "select i.ProductId, p.ProductName , sum(Quantity) as So_luong\n",
    "from orderitems i \n",
    "left join products p on p.id=i.ProductId\n",
    "left join orders o on o.id=i.orderid\n",
    "where Year(o.orderdate)=2014\n",
    "group by i.ProductId, p.ProductName\n",
    "order by So_luong DESC\n",
    "limit 10\n",
    "'''\n",
    "\n",
    "cur = conn.cursor()\n",
    "cur.execute(sql)"
   ]
  },
  {
   "cell_type": "code",
   "execution_count": 5,
   "metadata": {},
   "outputs": [
    {
     "name": "stdout",
     "output_type": "stream",
     "text": [
      "(13, 'Konbu', Decimal('659'))\n",
      "(24, 'Guaraná Fantástica', Decimal('546'))\n",
      "(60, 'Camembert Pierrot', Decimal('542'))\n",
      "(59, 'Raclette Courdavault', Decimal('513'))\n",
      "(7, \"Uncle Bob's Organic Dried Pears\", Decimal('414'))\n",
      "(75, 'Rhönbräu Klosterbier', Decimal('405'))\n",
      "(1, 'Chai', Decimal('399'))\n",
      "(2, 'Chang', Decimal('396'))\n",
      "(76, 'Lakkalikööri', Decimal('388'))\n",
      "(21, \"Sir Rodney's Scones\", Decimal('351'))\n"
     ]
    }
   ],
   "source": [
    "# Buoc 3: doc va xu ly ket qua tra ve\n",
    "for row in cur: # fetch one\n",
    "    print (row)"
   ]
  },
  {
   "cell_type": "code",
   "execution_count": 6,
   "metadata": {},
   "outputs": [
    {
     "data": {
      "text/plain": [
       "<mysql.connector.cursor.MySQLCursor at 0x1b713d56408>"
      ]
     },
     "execution_count": 6,
     "metadata": {},
     "output_type": "execute_result"
    }
   ],
   "source": [
    "cur"
   ]
  },
  {
   "cell_type": "code",
   "execution_count": 7,
   "metadata": {},
   "outputs": [],
   "source": [
    "# Buoc 4: dong cursor, dong connection\n",
    "cur.close()\n",
    "conn.close()"
   ]
  },
  {
   "cell_type": "code",
   "execution_count": null,
   "metadata": {},
   "outputs": [],
   "source": []
  }
 ],
 "metadata": {
  "kernelspec": {
   "display_name": "Python 3",
   "language": "python",
   "name": "python3"
  },
  "language_info": {
   "codemirror_mode": {
    "name": "ipython",
    "version": 3
   },
   "file_extension": ".py",
   "mimetype": "text/x-python",
   "name": "python",
   "nbconvert_exporter": "python",
   "pygments_lexer": "ipython3",
   "version": "3.9.4"
  }
 },
 "nbformat": 4,
 "nbformat_minor": 4
}
