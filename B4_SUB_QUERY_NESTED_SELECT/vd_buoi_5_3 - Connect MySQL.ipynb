{
 "cells": [
  {
   "cell_type": "markdown",
   "metadata": {},
   "source": [
    "### Ví dụ truyền tham số cho câu truy vấn"
   ]
  },
  {
   "cell_type": "code",
   "execution_count": 1,
   "metadata": {},
   "outputs": [],
   "source": [
    "from mysql.connector import connect"
   ]
  },
  {
   "cell_type": "code",
   "execution_count": 2,
   "metadata": {},
   "outputs": [],
   "source": [
    "# tạo connection\n",
    "# tạo cursur de thuc hien cau truy van\n",
    "# doc va xu ly ket qua tra ve\n",
    "# dong cursor, dong connection"
   ]
  },
  {
   "cell_type": "code",
   "execution_count": 3,
   "metadata": {},
   "outputs": [],
   "source": [
    "# Buoc 1: Tao connection\n",
    "# chuan bi thong tin ket noi\n",
    "server = 'phpmyadmin.laptrinhphp.net'\n",
    "db = 'gd_salesdb'\n",
    "username = 'hv'\n",
    "pwd = '123456'\n",
    "\n",
    "conn = connect(host=server, database=db, user=username, password=pwd)"
   ]
  },
  {
   "cell_type": "code",
   "execution_count": 4,
   "metadata": {},
   "outputs": [],
   "source": [
    "# truyen tham so cho cot city va limit \n",
    "sql = 'select * from customers where city=%s limit %s'\n",
    "data = ('London', 5)\n",
    "cur = conn.cursor()\n",
    "cur.execute(sql, data)"
   ]
  },
  {
   "cell_type": "code",
   "execution_count": 5,
   "metadata": {},
   "outputs": [
    {
     "name": "stdout",
     "output_type": "stream",
     "text": [
      "(4, 'Thomas', 'Hardy', 'London', 'UK', '(171) 555-7788')\n",
      "(11, 'Victoria', 'Ashworth', 'London', 'UK', '(171) 555-1212')\n",
      "(16, 'Elizabeth', 'Brown', 'London', 'UK', '(171) 555-2282')\n",
      "(19, 'Ann', 'Devon', 'London', 'UK', '(171) 555-0297')\n",
      "(53, 'Simon', 'Crowther', 'London', 'UK', '(171) 555-7733')\n"
     ]
    }
   ],
   "source": [
    "# Buoc 3: doc va xu ly ket qua tra ve\n",
    "for row in cur: # fetch one\n",
    "    print (row)"
   ]
  },
  {
   "cell_type": "code",
   "execution_count": 6,
   "metadata": {},
   "outputs": [
    {
     "data": {
      "text/plain": [
       "<mysql.connector.cursor.MySQLCursor at 0x228fa85f388>"
      ]
     },
     "execution_count": 6,
     "metadata": {},
     "output_type": "execute_result"
    }
   ],
   "source": [
    "cur"
   ]
  },
  {
   "cell_type": "code",
   "execution_count": 7,
   "metadata": {},
   "outputs": [],
   "source": [
    "# Buoc 4: dong cursor, dong connection\n",
    "cur.close()\n",
    "conn.close()"
   ]
  },
  {
   "cell_type": "code",
   "execution_count": null,
   "metadata": {},
   "outputs": [],
   "source": []
  }
 ],
 "metadata": {
  "kernelspec": {
   "display_name": "Python 3",
   "language": "python",
   "name": "python3"
  },
  "language_info": {
   "codemirror_mode": {
    "name": "ipython",
    "version": 3
   },
   "file_extension": ".py",
   "mimetype": "text/x-python",
   "name": "python",
   "nbconvert_exporter": "python",
   "pygments_lexer": "ipython3",
   "version": "3.7.9"
  }
 },
 "nbformat": 4,
 "nbformat_minor": 4
}
