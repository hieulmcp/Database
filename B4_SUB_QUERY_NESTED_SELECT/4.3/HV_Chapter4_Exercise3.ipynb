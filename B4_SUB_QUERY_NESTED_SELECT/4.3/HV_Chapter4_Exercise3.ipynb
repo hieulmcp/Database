{
 "cells": [
  {
   "cell_type": "markdown",
   "metadata": {},
   "source": [
    "## Chapter 4 – Exercise 3:  Sử dụng Mysql Connector để thực hiện các truy vấn dữ liệu trên nhiều bảng"
   ]
  },
  {
   "cell_type": "markdown",
   "metadata": {},
   "source": [
    "#### Học viên thực hiện các yêu cầu sau và đối chiếu với kết quả cho trước:"
   ]
  },
  {
   "cell_type": "code",
   "execution_count": 1,
   "metadata": {},
   "outputs": [],
   "source": [
    "from mysql.connector import connect"
   ]
  },
  {
   "cell_type": "code",
   "execution_count": 2,
   "metadata": {},
   "outputs": [],
   "source": [
    "conn = connect(host='localhost', port=3306, database='salesdb', user='root', password='')"
   ]
  },
  {
   "cell_type": "code",
   "execution_count": 3,
   "metadata": {},
   "outputs": [],
   "source": [
    "def run_sql(sql):\n",
    "    # code here\n",
    "    cur = conn.cursor()\n",
    "    cur.execute(sql)\n",
    "    row = cur.fetchone()\n",
    "    while row:\n",
    "        print(row)\n",
    "        row = cur.fetchone()"
   ]
  },
  {
   "cell_type": "code",
   "execution_count": 4,
   "metadata": {},
   "outputs": [
    {
     "name": "stdout",
     "output_type": "stream",
     "text": [
      "(1, 'Chai', Decimal('18'), 'Exotic Liquids')\n",
      "(2, 'Chang', Decimal('19'), 'Exotic Liquids')\n",
      "(3, 'Aniseed Syrup', Decimal('10'), 'Exotic Liquids')\n",
      "(4, \"Chef Anton's Ca6/Seasoning\", Decimal('22'), 'New Orleans Ca6/Delights')\n",
      "(5, \"Chef Anton's Gumbo Mix\", Decimal('21'), 'New Orleans Ca6/Delights')\n",
      "(6, \"Grandma's Boysenberry Spread\", Decimal('25'), \"Grandma Kelly's Homestead\")\n",
      "(7, \"Uncle Bob's Organic Dried Pears\", Decimal('30'), \"Grandma Kelly's Homestead\")\n",
      "(8, 'Northwoods Cranberry Sauce', Decimal('40'), \"Grandma Kelly's Homestead\")\n",
      "(9, 'Mishi Kobe Niku', Decimal('97'), 'Tokyo Traders')\n",
      "(10, 'Ikura', Decimal('31'), 'Tokyo Traders')\n",
      "(11, 'Queso Cabrales', Decimal('21'), \"Cooperativa de Quesos 'Las Cabras'\")\n",
      "(12, 'Queso Manchego La Pastora', Decimal('38'), \"Cooperativa de Quesos 'Las Cabras'\")\n",
      "(13, 'Konbu', Decimal('6'), \"Mayumi's\")\n",
      "(14, 'Tofu', Decimal('23'), \"Mayumi's\")\n",
      "(15, 'Genen Shouyu', Decimal('16'), \"Mayumi's\")\n",
      "(16, 'Pavlova', Decimal('17'), 'Pavlova, Ltd.')\n",
      "(17, 'Alice Mutton', Decimal('39'), 'Pavlova, Ltd.')\n",
      "(18, 'Carnarvon Tigers', Decimal('63'), 'Pavlova, Ltd.')\n",
      "(19, 'Teatime Chocolate Biscuits', Decimal('9'), 'Specialty Biscuits, Ltd.')\n",
      "(20, \"Sir Rodney's Marmalade\", Decimal('81'), 'Specialty Biscuits, Ltd.')\n",
      "(21, \"Sir Rodney's Scones\", Decimal('10'), 'Specialty Biscuits, Ltd.')\n",
      "(22, \"Gustaf's Knäckebröd\", Decimal('21'), 'PB Knäckebröd AB')\n",
      "(23, 'Tunnbröd', Decimal('9'), 'PB Knäckebröd AB')\n",
      "(24, 'Guaraná Fantástica', Decimal('5'), 'Refrescos Americanas LTDA')\n",
      "(25, 'NuNuCa Nuß-Nougat-Creme', Decimal('14'), 'Heli Süßwaren GmbH & Co. KG')\n",
      "(26, 'Gumbär Gummibärchen', Decimal('31'), 'Heli Süßwaren GmbH & Co. KG')\n",
      "(27, 'Schoggi Schokolade', Decimal('44'), 'Heli Süßwaren GmbH & Co. KG')\n",
      "(28, 'Rössle Sauerkraut', Decimal('46'), 'Plutzer Lebensmittelgroßmärkte AG')\n",
      "(29, 'Thüringer Rostbratwurst', Decimal('124'), 'Plutzer Lebensmittelgroßmärkte AG')\n",
      "(30, 'Nord-Ost Matjeshering', Decimal('26'), 'Nord-Ost-Fisch Handelsgesellschaft mbH')\n",
      "(31, 'Gorgonzola Telino', Decimal('13'), 'Formaggi Fortini s.r.l.')\n",
      "(32, 'Mascarpone Fabioli', Decimal('32'), 'Formaggi Fortini s.r.l.')\n",
      "(33, 'Geitost', Decimal('3'), 'Norske Meierier')\n",
      "(34, 'Sasquatch Ale', Decimal('14'), 'Bigfoot Breweries')\n",
      "(35, 'Steeleye Stout', Decimal('18'), 'Bigfoot Breweries')\n",
      "(36, 'Inlagd Sill', Decimal('19'), 'Svensk Sjöföda AB')\n",
      "(37, 'Gravad lax', Decimal('26'), 'Svensk Sjöföda AB')\n",
      "(38, 'Côte de Blaye', Decimal('264'), 'Aux joyeux ecclésiastiques')\n",
      "(39, 'Chartreuse verte', Decimal('18'), 'Aux joyeux ecclésiastiques')\n",
      "(40, 'Boston Crab Meat', Decimal('18'), 'New England Seafood Cannery')\n",
      "(41, \"Jack's New England Clam Chowder\", Decimal('10'), 'New England Seafood Cannery')\n",
      "(42, 'Singaporean Hokkien Fried Mee', Decimal('14'), 'Leka Trading')\n",
      "(43, 'Ipoh Coffee', Decimal('46'), 'Leka Trading')\n",
      "(44, 'Gula Malacca', Decimal('19'), 'Leka Trading')\n",
      "(45, 'Rogede sild', Decimal('10'), 'Lyngbysild')\n",
      "(46, 'Spegesild', Decimal('12'), 'Lyngbysild')\n",
      "(47, 'Zaanse koeken', Decimal('10'), 'Zaanse Snoepfabriek')\n",
      "(48, 'Chocolade', Decimal('13'), 'Zaanse Snoepfabriek')\n",
      "(49, 'Maxilaku', Decimal('20'), 'Karkki Oy')\n",
      "(50, 'Valkoinen suklaa', Decimal('16'), 'Karkki Oy')\n",
      "(51, 'Manjimup Dried Apples', Decimal('53'), \"G'day, Mate\")\n",
      "(52, 'Filo Mix', Decimal('7'), \"G'day, Mate\")\n",
      "(53, 'Perth Pasties', Decimal('33'), \"G'day, Mate\")\n",
      "(54, 'Tourtière', Decimal('7'), 'Ma Maison')\n",
      "(55, 'Pâté chinois', Decimal('24'), 'Ma Maison')\n",
      "(56, 'Gnocchi di nonna Alice', Decimal('38'), 'Pasta Buttini s.r.l.')\n",
      "(57, 'Ravioli Angelo', Decimal('20'), 'Pasta Buttini s.r.l.')\n",
      "(58, 'Escargots de Bourgogne', Decimal('13'), 'Escargots Nouveaux')\n",
      "(59, 'Raclette Courdavault', Decimal('55'), 'Gai pâturage')\n",
      "(60, 'Camembert Pierrot', Decimal('34'), 'Gai pâturage')\n",
      "(61, \"Sirop d'érable\", Decimal('29'), \"Forêts d'érables\")\n",
      "(62, 'Tarte au sucre', Decimal('49'), \"Forêts d'érables\")\n",
      "(63, 'Vegie-spread', Decimal('44'), 'Pavlova, Ltd.')\n",
      "(64, 'Wimmers gute Semmelknödel', Decimal('33'), 'Plutzer Lebensmittelgroßmärkte AG')\n",
      "(65, 'Louisiana Fiery Hot Pepper Sauce', Decimal('21'), 'New Orleans Ca6/Delights')\n",
      "(66, 'Louisiana Hot Spiced Okra', Decimal('17'), 'New Orleans Ca6/Delights')\n",
      "(67, 'Laughing Lumberjack Lager', Decimal('14'), 'Bigfoot Breweries')\n",
      "(68, 'Scottish Longbreads', Decimal('13'), 'Specialty Biscuits, Ltd.')\n",
      "(69, 'Gudbrandsdalsost', Decimal('36'), 'Norske Meierier')\n",
      "(70, 'Outback Lager', Decimal('15'), 'Pavlova, Ltd.')\n",
      "(71, 'Flotemysost', Decimal('22'), 'Norske Meierier')\n",
      "(72, 'Mozzarella di Giovanni', Decimal('35'), 'Formaggi Fortini s.r.l.')\n",
      "(73, 'Röd Kaviar', Decimal('15'), 'Svensk Sjöföda AB')\n",
      "(74, 'Longlife Tofu', Decimal('10'), 'Tokyo Traders')\n",
      "(75, 'Rhönbräu Klosterbier', Decimal('8'), 'Plutzer Lebensmittelgroßmärkte AG')\n",
      "(76, 'Lakkalikööri', Decimal('18'), 'Karkki Oy')\n",
      "(77, 'Original Frankfurter grüne Soße', Decimal('13'), 'Plutzer Lebensmittelgroßmärkte AG')\n",
      "(78, 'Stroopwafels', Decimal('10'), 'Zaanse Snoepfabriek')\n"
     ]
    }
   ],
   "source": [
    "# Câu 1: Liệt kê danh sách sản phẩm theo từng nhà cung cấp, thông tin gồm ProductId, ProductName, UnitPrice, CompanyName\n",
    "sql = 'select p.Id, p.ProductName, p.UnitPrice, s.CompanyName from products p left join suppliers s on s.id = p.supplierid'\n",
    "run_sql(sql)"
   ]
  },
  {
   "cell_type": "markdown",
   "metadata": {},
   "source": [
    "<details>\n",
    "  <summary>Nhấn vào đây để xem kết quả!</summary>\n",
    "  <pre>(38, 'Côte de Blaye', Decimal('263.50'), 'Aux joyeux ecclésiastiques')\n",
    "(39, 'Chartreuse verte', Decimal('18.00'), 'Aux joyeux ecclésiastiques')\n",
    "(35, 'Steeleye Stout', Decimal('18.00'), 'Bigfoot Breweries')\n",
    "(67, 'Laughing Lumberjack Lager', Decimal('14.00'), 'Bigfoot Breweries')\n",
    "(34, 'Sasquatch Ale', Decimal('14.00'), 'Bigfoot Breweries')\n",
    "(11, 'Queso Cabrales', Decimal('21.00'), \"Cooperativa de Quesos 'Las Cabras'\")\n",
    "(12, 'Queso Manchego La Pastora', Decimal('38.00'), \"Cooperativa de Quesos 'Las Cabras'\")\n",
    "(58, 'Escargots de Bourgogne', Decimal('13.25'), 'Escargots Nouveaux')\n",
    "(3, 'Aniseed Syrup', Decimal('10.00'), 'Exotic Liquids')\n",
    "(1, 'Chai', Decimal('18.00'), 'Exotic Liquids')\n",
    "(2, 'Chang', Decimal('19.00'), 'Exotic Liquids')\n",
    "(62, 'Tarte au sucre', Decimal('49.30'), \"Forêts d'érables\")\n",
    "(61, \"Sirop d'érable\", Decimal('28.50'), \"Forêts d'érables\")\n",
    "(72, 'Mozzarella di Giovanni', Decimal('34.80'), 'Formaggi Fortini s.r.l.')\n",
    "(31, 'Gorgonzola Telino', Decimal('12.50'), 'Formaggi Fortini s.r.l.')\n",
    "(32, 'Mascarpone Fabioli', Decimal('32.00'), 'Formaggi Fortini s.r.l.')\n",
    "(52, 'Filo Mix', Decimal('7.00'), \"G'day, Mate\")\n",
    "(53, 'Perth Pasties', Decimal('32.80'), \"G'day, Mate\")\n",
    "(51, 'Manjimup Dried Apples', Decimal('53.00'), \"G'day, Mate\")\n",
    "(60, 'Camembert Pierrot', Decimal('34.00'), 'Gai pâturage')\n",
    "(59, 'Raclette Courdavault', Decimal('55.00'), 'Gai pâturage')\n",
    "(8, 'Northwoods Cranberry Sauce', Decimal('40.00'), \"Grandma Kelly's Homestead\")\n",
    "(6, \"Grandma's Boysenberry Spread\", Decimal('25.00'), \"Grandma Kelly's Homestead\")\n",
    "(7, \"Uncle Bob's Organic Dried Pears\", Decimal('30.00'), \"Grandma Kelly's Homestead\")\n",
    "(25, 'NuNuCa Nuß-Nougat-Creme', Decimal('14.00'), 'Heli Süßwaren GmbH &amp; Co. KG')\n",
    "(26, 'Gumbär Gummibärchen', Decimal('31.23'), 'Heli Süßwaren GmbH &amp; Co. KG')\n",
    "(27, 'Schoggi Schokolade', Decimal('43.90'), 'Heli Süßwaren GmbH &amp; Co. KG')\n",
    "(50, 'Valkoinen suklaa', Decimal('16.25'), 'Karkki Oy')\n",
    "(76, 'Lakkalikööri', Decimal('18.00'), 'Karkki Oy')\n",
    "(49, 'Maxilaku', Decimal('20.00'), 'Karkki Oy')\n",
    "(42, 'Singaporean Hokkien Fried Mee', Decimal('14.00'), 'Leka Trading')\n",
    "(43, 'Ipoh Coffee', Decimal('46.00'), 'Leka Trading')\n",
    "(44, 'Gula Malacca', Decimal('19.45'), 'Leka Trading')\n",
    "(45, 'Rogede sild', Decimal('9.50'), 'Lyngbysild')\n",
    "(46, 'Spegesild', Decimal('12.00'), 'Lyngbysild')\n",
    "(55, 'Pâté chinois', Decimal('24.00'), 'Ma Maison')\n",
    "(54, 'Tourtière', Decimal('7.45'), 'Ma Maison')\n",
    "(15, 'Genen Shouyu', Decimal('15.50'), \"Mayumi's\")\n",
    "(13, 'Konbu', Decimal('6.00'), \"Mayumi's\")\n",
    "(14, 'Tofu', Decimal('23.25'), \"Mayumi's\")\n",
    "(40, 'Boston Crab Meat', Decimal('18.40'), 'New England Seafood Cannery')\n",
    "(41, \"Jack's New England Clam Chowder\", Decimal('9.65'), 'New England Seafood Cannery')\n",
    "(5, \"Chef Anton's Gumbo Mix\", Decimal('21.35'), 'New Orleans Ca6/Delights')\n",
    "(65, 'Louisiana Fiery Hot Pepper Sauce', Decimal('21.05'), 'New Orleans Ca6/Delights')\n",
    "(4, \"Chef Anton's Ca6/Seasoning\", Decimal('22.00'), 'New Orleans Ca6/Delights')\n",
    "(66, 'Louisiana Hot Spiced Okra', Decimal('17.00'), 'New Orleans Ca6/Delights')\n",
    "(30, 'Nord-Ost Matjeshering', Decimal('25.89'), 'Nord-Ost-Fisch Handelsgesellschaft mbH')\n",
    "(69, 'Gudbrandsdalsost', Decimal('36.00'), 'Norske Meierier')\n",
    "(33, 'Geitost', Decimal('2.50'), 'Norske Meierier')\n",
    "(71, 'Flotemysost', Decimal('21.50'), 'Norske Meierier')\n",
    "(57, 'Ravioli Angelo', Decimal('19.50'), 'Pasta Buttini s.r.l.')\n",
    "(56, 'Gnocchi di nonna Alice', Decimal('38.00'), 'Pasta Buttini s.r.l.')\n",
    "(18, 'Carnarvon Tigers', Decimal('62.50'), 'Pavlova, Ltd.')\n",
    "(70, 'Outback Lager', Decimal('15.00'), 'Pavlova, Ltd.')\n",
    "(16, 'Pavlova', Decimal('17.45'), 'Pavlova, Ltd.')\n",
    "(63, 'Vegie-spread', Decimal('43.90'), 'Pavlova, Ltd.')\n",
    "(17, 'Alice Mutton', Decimal('39.00'), 'Pavlova, Ltd.')\n",
    "(23, 'Tunnbröd', Decimal('9.00'), 'PB Knäckebröd AB')\n",
    "(22, \"Gustaf's Knäckebröd\", Decimal('21.00'), 'PB Knäckebröd AB')\n",
    "(77, 'Original Frankfurter grüne Soße', Decimal('13.00'), 'Plutzer Lebensmittelgroßmärkte AG')\n",
    "(28, 'Rössle Sauerkraut', Decimal('45.60'), 'Plutzer Lebensmittelgroßmärkte AG')\n",
    "(75, 'Rhönbräu Klosterbier', Decimal('7.75'), 'Plutzer Lebensmittelgroßmärkte AG')\n",
    "(29, 'Thüringer Rostbratwurst', Decimal('123.79'), 'Plutzer Lebensmittelgroßmärkte AG')\n",
    "(64, 'Wimmers gute Semmelknödel', Decimal('33.25'), 'Plutzer Lebensmittelgroßmärkte AG')\n",
    "(24, 'Guaraná Fantástica', Decimal('4.50'), 'Refrescos Americanas LTDA')\n",
    "(20, \"Sir Rodney's Marmalade\", Decimal('81.00'), 'Specialty Biscuits, Ltd.')\n",
    "(21, \"Sir Rodney's Scones\", Decimal('10.00'), 'Specialty Biscuits, Ltd.')\n",
    "(68, 'Scottish Longbreads', Decimal('12.50'), 'Specialty Biscuits, Ltd.')\n",
    "(19, 'Teatime Chocolate Biscuits', Decimal('9.20'), 'Specialty Biscuits, Ltd.')\n",
    "(37, 'Gravad lax', Decimal('26.00'), 'Svensk Sjöföda AB')\n",
    "(36, 'Inlagd Sill', Decimal('19.00'), 'Svensk Sjöföda AB')\n",
    "(73, 'Röd Kaviar', Decimal('15.00'), 'Svensk Sjöföda AB')\n",
    "(10, 'Ikura', Decimal('31.00'), 'Tokyo Traders')\n",
    "(74, 'Longlife Tofu', Decimal('10.00'), 'Tokyo Traders')\n",
    "(9, 'Mishi Kobe Niku', Decimal('97.00'), 'Tokyo Traders')\n",
    "(47, 'Zaanse koeken', Decimal('9.50'), 'Zaanse Snoepfabriek')\n",
    "(48, 'Chocolade', Decimal('12.75'), 'Zaanse Snoepfabriek')\n",
    "(78, 'Stroopwafels', Decimal('9.75'), 'Zaanse Snoepfabriek')\n",
    "</pre>\n",
    "  \n",
    "</details>"
   ]
  },
  {
   "cell_type": "code",
   "execution_count": 9,
   "metadata": {},
   "outputs": [
    {
     "name": "stdout",
     "output_type": "stream",
     "text": [
      "(24, 'Guaraná Fantástica', 'Thomas Hardy')\n",
      "(57, 'Ravioli Angelo', 'Thomas Hardy')\n",
      "(13, 'Konbu', 'Thomas Hardy')\n",
      "(50, 'Valkoinen suklaa', 'Thomas Hardy')\n",
      "(56, 'Gnocchi di nonna Alice', 'Thomas Hardy')\n",
      "(48, 'Chocolade', 'Thomas Hardy')\n",
      "(70, 'Outback Lager', 'Thomas Hardy')\n",
      "(47, 'Zaanse koeken', 'Thomas Hardy')\n",
      "(51, 'Manjimup Dried Apples', 'Thomas Hardy')\n",
      "(52, 'Filo Mix', 'Thomas Hardy')\n",
      "(53, 'Perth Pasties', 'Thomas Hardy')\n",
      "(73, 'Röd Kaviar', 'Thomas Hardy')\n",
      "(55, 'Pâté chinois', 'Thomas Hardy')\n",
      "(57, 'Ravioli Angelo', 'Thomas Hardy')\n",
      "(70, 'Outback Lager', 'Thomas Hardy')\n",
      "(2, 'Chang', 'Thomas Hardy')\n",
      "(46, 'Spegesild', 'Thomas Hardy')\n",
      "(22, \"Gustaf's Knäckebröd\", 'Thomas Hardy')\n",
      "(31, 'Gorgonzola Telino', 'Thomas Hardy')\n",
      "(60, 'Camembert Pierrot', 'Thomas Hardy')\n",
      "(71, 'Flotemysost', 'Thomas Hardy')\n",
      "(41, \"Jack's New England Clam Chowder\", 'Thomas Hardy')\n",
      "(52, 'Filo Mix', 'Thomas Hardy')\n",
      "(35, 'Steeleye Stout', 'Thomas Hardy')\n",
      "(67, 'Laughing Lumberjack Lager', 'Thomas Hardy')\n",
      "(50, 'Valkoinen suklaa', 'Thomas Hardy')\n",
      "(20, \"Sir Rodney's Marmalade\", 'Thomas Hardy')\n",
      "(31, 'Gorgonzola Telino', 'Thomas Hardy')\n",
      "(31, 'Gorgonzola Telino', 'Thomas Hardy')\n",
      "(36, 'Inlagd Sill', 'Thomas Hardy')\n"
     ]
    }
   ],
   "source": [
    "# Câu 2: Liệt danh sách các sản phẩm được đặt hàng bởi 'Thomas Hardy'\n",
    "# Thông tin gồm: Order_Id, OrderDate, ProductName, Quantity, SalePrice và CustomerName\n",
    "# Trong đó SalePrice = UnitPrice * Quantity\n",
    "sql = ''' select i.productid, p.productname, concat(c.firstname,\" \",c.lastname) as full_name\n",
    "            from orderitems i left join orders o on o.id = i.orderid\n",
    "            left join customers c on c.id = o.customerid\n",
    "            left join products p on p.id = i.productid\n",
    "            where c.firstname = \"Thomas\" and c.lastname = \"Hardy\"\n",
    "        '''\n",
    "run_sql(sql)"
   ]
  },
  {
   "cell_type": "markdown",
   "metadata": {},
   "source": [
    "<details>\n",
    "  <summary>Nhấn vào đây để xem kết quả!</summary>\n",
    "  <pre>(108, datetime.datetime(2012, 11, 15, 0, 0), 'Guaraná Fantástica', 25, Decimal('3.60'), Decimal('90.00'), 'Thomas Hardy')\n",
    "(108, datetime.datetime(2012, 11, 15, 0, 0), 'Ravioli Angelo', 25, Decimal('15.60'), Decimal('390.00'), 'Thomas Hardy')\n",
    "(136, datetime.datetime(2012, 12, 16, 0, 0), 'Konbu', 20, Decimal('4.80'), Decimal('96.00'), 'Thomas Hardy')\n",
    "(136, datetime.datetime(2012, 12, 16, 0, 0), 'Valkoinen suklaa', 15, Decimal('13.00'), Decimal('195.00'), 'Thomas Hardy')\n",
    "(136, datetime.datetime(2012, 12, 16, 0, 0), 'Gnocchi di nonna Alice', 20, Decimal('30.40'), Decimal('608.00'), 'Thomas Hardy')\n",
    "(206, datetime.datetime(2013, 2, 21, 0, 0), 'Chocolade', 15, Decimal('10.20'), Decimal('153.00'), 'Thomas Hardy')\n",
    "(206, datetime.datetime(2013, 2, 21, 0, 0), 'Outback Lager', 25, Decimal('12.00'), Decimal('300.00'), 'Thomas Hardy')\n",
    "(311, datetime.datetime(2013, 6, 4, 0, 0), 'Zaanse koeken', 25, Decimal('9.50'), Decimal('237.50'), 'Thomas Hardy')\n",
    "(311, datetime.datetime(2013, 6, 4, 0, 0), 'Manjimup Dried Apples', 20, Decimal('53.00'), Decimal('1060.00'), 'Thomas Hardy')\n",
    "(311, datetime.datetime(2013, 6, 4, 0, 0), 'Filo Mix', 30, Decimal('7.00'), Decimal('210.00'), 'Thomas Hardy')\n",
    "(311, datetime.datetime(2013, 6, 4, 0, 0), 'Perth Pasties', 18, Decimal('32.80'), Decimal('590.40'), 'Thomas Hardy')\n",
    "(311, datetime.datetime(2013, 6, 4, 0, 0), 'Röd Kaviar', 3, Decimal('15.00'), Decimal('45.00'), 'Thomas Hardy')\n",
    "(460, datetime.datetime(2013, 10, 16, 0, 0), 'Pâté chinois', 21, Decimal('24.00'), Decimal('504.00'), 'Thomas Hardy')\n",
    "(460, datetime.datetime(2013, 10, 16, 0, 0), 'Ravioli Angelo', 40, Decimal('19.50'), Decimal('780.00'), 'Thomas Hardy')\n",
    "(460, datetime.datetime(2013, 10, 16, 0, 0), 'Outback Lager', 28, Decimal('15.00'), Decimal('420.00'), 'Thomas Hardy')\n",
    "(494, datetime.datetime(2013, 11, 14, 0, 0), 'Chang', 15, Decimal('19.00'), Decimal('285.00'), 'Thomas Hardy')\n",
    "(496, datetime.datetime(2013, 11, 17, 0, 0), 'Spegesild', 28, Decimal('12.00'), Decimal('336.00'), 'Thomas Hardy')\n",
    "(521, datetime.datetime(2013, 12, 8, 0, 0), \"Gustaf's Knäckebröd\", 4, Decimal('21.00'), Decimal('84.00'), 'Thomas Hardy')\n",
    "(521, datetime.datetime(2013, 12, 8, 0, 0), 'Gorgonzola Telino', 50, Decimal('12.50'), Decimal('625.00'), 'Thomas Hardy')\n",
    "(521, datetime.datetime(2013, 12, 8, 0, 0), 'Camembert Pierrot', 15, Decimal('34.00'), Decimal('510.00'), 'Thomas Hardy')\n",
    "(521, datetime.datetime(2013, 12, 8, 0, 0), 'Flotemysost', 12, Decimal('21.50'), Decimal('258.00'), 'Thomas Hardy')\n",
    "(546, datetime.datetime(2013, 12, 24, 0, 0), \"Jack's New England Clam Chowder\", 14, Decimal('9.65'), Decimal('135.10'), 'Thomas Hardy')\n",
    "(546, datetime.datetime(2013, 12, 24, 0, 0), 'Filo Mix', 8, Decimal('7.00'), Decimal('56.00'), 'Thomas Hardy')\n",
    "(617, datetime.datetime(2014, 2, 2, 0, 0), 'Steeleye Stout', 4, Decimal('18.00'), Decimal('72.00'), 'Thomas Hardy')\n",
    "(617, datetime.datetime(2014, 2, 2, 0, 0), 'Laughing Lumberjack Lager', 15, Decimal('14.00'), Decimal('210.00'), 'Thomas Hardy')\n",
    "(673, datetime.datetime(2014, 3, 3, 0, 0), 'Valkoinen suklaa', 24, Decimal('16.25'), Decimal('390.00'), 'Thomas Hardy')\n",
    "(706, datetime.datetime(2014, 3, 16, 0, 0), \"Sir Rodney's Marmalade\", 50, Decimal('81.00'), Decimal('4050.00'), 'Thomas Hardy')\n",
    "(706, datetime.datetime(2014, 3, 16, 0, 0), 'Gorgonzola Telino', 50, Decimal('12.50'), Decimal('625.00'), 'Thomas Hardy')\n",
    "(769, datetime.datetime(2014, 4, 10, 0, 0), 'Gorgonzola Telino', 15, Decimal('12.50'), Decimal('187.50'), 'Thomas Hardy')\n",
    "(769, datetime.datetime(2014, 4, 10, 0, 0), 'Inlagd Sill', 16, Decimal('19.00'), Decimal('304.00'), 'Thomas Hardy')\n",
    "</pre>\n",
    "  \n",
    "</details>"
   ]
  },
  {
   "cell_type": "code",
   "execution_count": 11,
   "metadata": {},
   "outputs": [
    {
     "name": "stdout",
     "output_type": "stream",
     "text": [
      "(22, 'Diego', 'Roel', 'Madrid', 'Spain', '(91) 555 94 44')\n",
      "(57, 'Marie', 'Bertrand', 'Paris', 'France', '(1) 42.34.22.66')\n"
     ]
    }
   ],
   "source": [
    "# Câu 3: Liệt kê danh sách các khách hàng chưa có đơn đặt hàng nào\n",
    "sql = ''' select *\n",
    "            from customers c1\n",
    "            where c1.id not in\n",
    "            (select distinct o.customerid\n",
    "            from orders o\n",
    "            left join customers c on c.id = o.customerid)\n",
    "            '''\n",
    "run_sql(sql)"
   ]
  },
  {
   "cell_type": "markdown",
   "metadata": {},
   "source": [
    "<details>\n",
    "  <summary>Nhấn vào đây để xem kết quả!</summary>\n",
    "  <pre>(22, 'Diego', 'Roel', 'Madrid', 'Spain', '(91) 555 94 44')\n",
    "(57, 'Marie', 'Bertrand', 'Paris', 'France', '(1) 42.34.22.66')\n",
    "</pre>\n",
    "  \n",
    "</details>"
   ]
  },
  {
   "cell_type": "code",
   "execution_count": 14,
   "metadata": {},
   "outputs": [
    {
     "name": "stdout",
     "output_type": "stream",
     "text": [
      "(2, 'New Orleans Ca6/Delights', 'Shelley Burke', None, 'New Orleans', 'USA', '(100) 555-4822', None)\n",
      "(4, 'Tokyo Traders', 'Yoshi Nagase', None, 'Tokyo', 'Japan', '(03) 3555-5011', None)\n",
      "(7, 'Pavlova, Ltd.', 'Ian Devling', None, 'Melbourne', 'Australia', '(03) 444-2343', '(03')\n",
      "(10, 'Refrescos Americanas LTDA', 'Carlos Diaz', None, 'Sao Paulo', 'Brazil', '(11) 555 4640', None)\n",
      "(12, 'Plutzer Lebensmittelgroßmärkte AG', 'Martin Bein', None, 'Frankfurt', 'Germany', '(069) 992755', None)\n",
      "(20, 'Leka Trading', 'Chandra Leka', None, 'Singapore', 'Singapore', '555-8787', None)\n",
      "(24, \"G'day, Mate\", 'Wendy Mackenzie', None, 'Sydney', 'Australia', '(02) 555-5914', '(02')\n"
     ]
    }
   ],
   "source": [
    "# Câu 4: Liệt kê danh sách các nhà cung cấp có sản phẩm ngưng bán\n",
    "sql = ''' select * \n",
    "            from suppliers s \n",
    "            where s.id in\n",
    "            (select distinct p.supplierid\n",
    "            from products p\n",
    "            where isdiscontinued = 1)\n",
    "        '''\n",
    "run_sql(sql)"
   ]
  },
  {
   "cell_type": "markdown",
   "metadata": {},
   "source": [
    "<details>\n",
    "  <summary>Nhấn vào đây để xem kết quả!</summary>\n",
    "  <pre>(2, 'New Orleans Ca6/Delights', 'Shelley Burke', None, 'New Orleans', 'USA', '(100) 555-4822', None)\n",
    "(4, 'Tokyo Traders', 'Yoshi Nagase', None, 'Tokyo', 'Japan', '(03) 3555-5011', None)\n",
    "(7, 'Pavlova, Ltd.', 'Ian Devling', None, 'Melbourne', 'Australia', '(03) 444-2343', '(03) 444-6588')\n",
    "(10, 'Refrescos Americanas LTDA', 'Carlos Diaz', None, 'Sao Paulo', 'Brazil', '(11) 555 4640', None)\n",
    "(12, 'Plutzer Lebensmittelgroßmärkte AG', 'Martin Bein', None, 'Frankfurt', 'Germany', '(069) 992755', None)\n",
    "(20, 'Leka Trading', 'Chandra Leka', None, 'Singapore', 'Singapore', '555-8787', None)\n",
    "(24, \"G'day, Mate\", 'Wendy Mackenzie', None, 'Sydney', 'Australia', '(02) 555-5914', '(02) 555-4873')\n",
    "</pre>\n",
    "  \n",
    "</details>"
   ]
  },
  {
   "cell_type": "code",
   "execution_count": 16,
   "metadata": {},
   "outputs": [
    {
     "name": "stdout",
     "output_type": "stream",
     "text": [
      "('customer', 22, 'Diego Roel')\n",
      "('customer', 57, 'Marie Bertrand')\n",
      "('supplier', 2, 'New Orleans Ca6/Delights')\n",
      "('supplier', 4, 'Tokyo Traders')\n",
      "('supplier', 7, 'Pavlova, Ltd.')\n",
      "('supplier', 10, 'Refrescos Americanas LTDA')\n",
      "('supplier', 12, 'Plutzer Lebensmittelgroßmärkte AG')\n",
      "('supplier', 20, 'Leka Trading')\n",
      "('supplier', 24, \"G'day, Mate\")\n"
     ]
    }
   ],
   "source": [
    "# Câu 5: Liệt kê danh sách các khách hàng chưa có đơn đặt hàng nào và các nhà cung cấp có sản phẩm ngưng bán\n",
    "# Thông tin gồm: Type, Id, Name, City, Country, Phone\n",
    "# Trong đó: \n",
    "#          + Type: cho biết đó là Customer hay Supplier\n",
    "#          + Id: hiển thị Id của Customer hoặc Id của Supplier tùy theo Type\n",
    "#          + Name: hiển thị CustomerName hoặc CompanyName tùy theo Type\n",
    "\n",
    "sql = ''' select \"customer\" as Type, c1.id as Id, concat(c1.firstname,\" \",c1.lastname) as Name\n",
    "            from customers c1\n",
    "            where c1.id not in\n",
    "            (select distinct o.customerid\n",
    "            from orders o\n",
    "            left join customers c on c.id = o.customerid)\n",
    "            \n",
    "            union\n",
    "            \n",
    "            select \"supplier\" as Type, s.id as Id, s.companyname as Name\n",
    "            from suppliers s \n",
    "            where s.id in\n",
    "            (select distinct p.supplierid\n",
    "            from products p\n",
    "            where isdiscontinued = 1)            \n",
    "        '''\n",
    "run_sql(sql)"
   ]
  },
  {
   "cell_type": "markdown",
   "metadata": {},
   "source": [
    "<details>\n",
    "  <summary>Nhấn vào đây để xem kết quả!</summary>\n",
    "  <pre>('customer', 22, 'Diego Roel', 'Madrid', 'Spain', '(91) 555 94 44')\n",
    "('customer', 57, 'Marie Bertrand', 'Paris', 'France', '(1) 42.34.22.66')\n",
    "('Supplier', 2, 'New Orleans Ca6/Delights', 'New Orleans', 'USA', '(100) 555-4822')\n",
    "('Supplier', 4, 'Tokyo Traders', 'Tokyo', 'Japan', '(03) 3555-5011')\n",
    "('Supplier', 7, 'Pavlova, Ltd.', 'Melbourne', 'Australia', '(03) 444-2343')\n",
    "('Supplier', 10, 'Refrescos Americanas LTDA', 'Sao Paulo', 'Brazil', '(11) 555 4640')\n",
    "('Supplier', 12, 'Plutzer Lebensmittelgroßmärkte AG', 'Frankfurt', 'Germany', '(069) 992755')\n",
    "('Supplier', 20, 'Leka Trading', 'Singapore', 'Singapore', '555-8787')\n",
    "('Supplier', 24, \"G'day, Mate\", 'Sydney', 'Australia', '(02) 555-5914')\n",
    "</pre>\n",
    "  \n",
    "</details>"
   ]
  },
  {
   "cell_type": "code",
   "execution_count": 19,
   "metadata": {
    "scrolled": true
   },
   "outputs": [
    {
     "name": "stdout",
     "output_type": "stream",
     "text": [
      "('Diego Roel', 'None', 'None')\n",
      "('Marie Bertrand', 'None', 'None')\n",
      "('Paul Henriot', '1', '2012-07-04 00:00:00')\n",
      "('Karin Josephs', '2', '2012-07-05 00:00:00')\n",
      "('Mario Pontes', '3', '2012-07-08 00:00:00')\n",
      "('Mary Saveley', '4', '2012-07-08 00:00:00')\n",
      "('Pascale Cartrain', '5', '2012-07-09 00:00:00')\n",
      "('Mario Pontes', '6', '2012-07-10 00:00:00')\n",
      "('Yang Wang', '7', '2012-07-11 00:00:00')\n",
      "('Michael Holz', '8', '2012-07-12 00:00:00')\n"
     ]
    }
   ],
   "source": [
    "# Câu 6: Liệt kê thông tin đặt hàng của các khách hàng (kể cả các khách hàng chưa có đặt hàng), chỉ liệt kê 10 dòng đầu tiên.\n",
    "sql = ''' select concat(c1.firstname,\" \",c1.lastname) as Name, \"None\" as id, \"None\" as orderdate\n",
    "            from customers c1\n",
    "            where c1.id not in\n",
    "            (select distinct o.customerid\n",
    "            from orders o\n",
    "            left join customers c on c.id = o.customerid)\n",
    "            \n",
    "            union\n",
    "            \n",
    "            select concat(c.firstname,\" \",c.lastname) as Name, o.id as id, o.orderdate as orderdate\n",
    "            from orders o\n",
    "            left join customers c on c.id = o.customerid\n",
    "            \n",
    "            limit 10\n",
    "        '''\n",
    "run_sql(sql)"
   ]
  },
  {
   "cell_type": "markdown",
   "metadata": {},
   "source": [
    "<details>\n",
    "  <summary>Nhấn vào đây để xem kết quả!</summary>\n",
    "  <pre>('Marie Bertrand', None, None)\n",
    "('Diego Roel', None, None)\n",
    "('Paul Henriot', 1, datetime.datetime(2012, 7, 4, 0, 0))\n",
    "('Karin Josephs', 2, datetime.datetime(2012, 7, 5, 0, 0))\n",
    "('Mario Pontes', 3, datetime.datetime(2012, 7, 8, 0, 0))\n",
    "('Mary Saveley', 4, datetime.datetime(2012, 7, 8, 0, 0))\n",
    "('Pascale Cartrain', 5, datetime.datetime(2012, 7, 9, 0, 0))\n",
    "('Mario Pontes', 6, datetime.datetime(2012, 7, 10, 0, 0))\n",
    "('Yang Wang', 7, datetime.datetime(2012, 7, 11, 0, 0))\n",
    "('Michael Holz', 8, datetime.datetime(2012, 7, 12, 0, 0))\n",
    "</pre>\n",
    "  \n",
    "</details>"
   ]
  },
  {
   "cell_type": "code",
   "execution_count": 20,
   "metadata": {},
   "outputs": [],
   "source": [
    "conn.close()"
   ]
  },
  {
   "cell_type": "code",
   "execution_count": null,
   "metadata": {},
   "outputs": [],
   "source": []
  }
 ],
 "metadata": {
  "kernelspec": {
   "display_name": "Python 3",
   "language": "python",
   "name": "python3"
  },
  "language_info": {
   "codemirror_mode": {
    "name": "ipython",
    "version": 3
   },
   "file_extension": ".py",
   "mimetype": "text/x-python",
   "name": "python",
   "nbconvert_exporter": "python",
   "pygments_lexer": "ipython3",
   "version": "3.7.9"
  }
 },
 "nbformat": 4,
 "nbformat_minor": 4
}
