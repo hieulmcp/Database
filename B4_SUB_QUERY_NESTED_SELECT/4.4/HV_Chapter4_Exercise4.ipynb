{
 "cells": [
  {
   "cell_type": "markdown",
   "metadata": {},
   "source": [
    "## Chapter 4 – Exercise 4:  Sử dụng Mysql Connector để thực hiện các truy vấn có tham số"
   ]
  },
  {
   "cell_type": "markdown",
   "metadata": {},
   "source": [
    "#### Học viên thực hiện các yêu cầu sau và đối chiếu với kết quả cho trước (nếu có):"
   ]
  },
  {
   "cell_type": "code",
   "execution_count": 17,
   "metadata": {},
   "outputs": [],
   "source": [
    "from mysql.connector import connect"
   ]
  },
  {
   "cell_type": "code",
   "execution_count": 18,
   "metadata": {},
   "outputs": [],
   "source": [
    "conn = connect(host='localhost', port=3306, database='salesdb', user='root', password='')"
   ]
  },
  {
   "cell_type": "code",
   "execution_count": 19,
   "metadata": {},
   "outputs": [],
   "source": [
    "def run_sql(sql, data):\n",
    "    # code here\n",
    "    cur = conn.cursor()\n",
    "    cur.execute(sql, data)\n",
    "    row = cur.fetchone()\n",
    "    while row:\n",
    "        print(row)\n",
    "        row = cur.fetchone()"
   ]
  },
  {
   "cell_type": "code",
   "execution_count": 34,
   "metadata": {},
   "outputs": [
    {
     "name": "stdout",
     "output_type": "stream",
     "text": [
      "Nhập tên nhà cung cấp: Tokyo Traders\n",
      "(9, 'Mishi Kobe Niku', 4, Decimal('97'), '18 - 500 g pkgs.', 1, 'Tokyo Traders')\n",
      "(10, 'Ikura', 4, Decimal('31'), '12 - 200 ml jars', 0, 'Tokyo Traders')\n",
      "(74, 'Longlife Tofu', 4, Decimal('10'), '5 kg pkg.', 0, 'Tokyo Traders')\n"
     ]
    }
   ],
   "source": [
    "# Câu 1: Liệt kê danh sách các sản phẩm do công ty 'Tokyo Traders' cung cấp, với tham số tên công ty do người dùng nhập vào\n",
    "name = (input(\"Nhập tên nhà cung cấp: \"))\n",
    "data = (name,)\n",
    "sql = ''' select p.*, s.companyname\n",
    "            from products p \n",
    "            left join suppliers s on s.id = p.supplierid\n",
    "            where s.companyname = %s\n",
    "        '''\n",
    "cur = conn.cursor()\n",
    "cur.execute(sql, data)\n",
    "row = cur.fetchone()\n",
    "while row:\n",
    "    print(row)\n",
    "    row = cur.fetchone()"
   ]
  },
  {
   "cell_type": "markdown",
   "metadata": {},
   "source": [
    "<details>\n",
    "  <summary>Nhấn vào đây để xem kết quả!</summary>\n",
    "  <pre>Nhập tên nhà cung cấp: Tokyo Traders\n",
    "(9, 'Mishi Kobe Niku', 4, Decimal('97.00'), '18 - 500 g pkgs.', 1, 'Tokyo Traders')\n",
    "(10, 'Ikura', 4, Decimal('31.00'), '12 - 200 ml jars', 0, 'Tokyo Traders')\n",
    "(74, 'Longlife Tofu', 4, Decimal('10.00'), '5 kg pkg.', 0, 'Tokyo Traders')\n",
    "</pre>\n",
    "  \n",
    "</details>"
   ]
  },
  {
   "cell_type": "code",
   "execution_count": 41,
   "metadata": {},
   "outputs": [
    {
     "name": "stdout",
     "output_type": "stream",
     "text": [
      "Nhập tên nhà cung cấp: Tokyo Traders\n"
     ]
    }
   ],
   "source": [
    "# Câu 2: Cập nhật đơn giá tăng thêm 3usd cho các sản phẩm do công ty 'Tokyo Traders' cung cấp, \n",
    "# với tham số đơn giá tăng và tên công ty do người dùng nhập vào\n",
    "name = (input(\"Nhập tên nhà cung cấp: \"))\n",
    "data = (name,)\n",
    "sql = ''' update products p \n",
    "            left join suppliers s on s.id = p.supplierid\n",
    "            set p.UnitPrice = p.UnitPrice + 3\n",
    "            where s.companyname = %s\n",
    "        '''\n",
    "cur = conn.cursor()\n",
    "cur.execute(sql, data)\n",
    "row = cur.fetchone()\n",
    "while row:\n",
    "    print(row)\n",
    "    row = cur.fetchone()"
   ]
  },
  {
   "cell_type": "markdown",
   "metadata": {},
   "source": [
    "<details>\n",
    "  <summary>Nhấn vào đây để xem kết quả!</summary>\n",
    "  <pre>Nhập giá trị đơn giá tăng thêm: 3\n",
    "Nhập tên nhà cung cấp: Tokyo Traders\n",
    "</pre>\n",
    "  \n",
    "</details>"
   ]
  },
  {
   "cell_type": "code",
   "execution_count": 22,
   "metadata": {},
   "outputs": [
    {
     "name": "stdout",
     "output_type": "stream",
     "text": [
      "Nhập tên sản phẩm: d\n",
      "Nhập mã nhà cung cấp: 5\n",
      "Nhập đơn giá: 6\n",
      "Nhập hình thức đóng gói: d\n",
      "Sản phẩm đã ngừng bán rồi? [Để trống nếu chưa ngừng bán]: \n",
      "(83, 'd', 0, Decimal('6'), 'd', 0)\n",
      "(82, 'd', 0, Decimal('4'), 'd', 0)\n",
      "Bạn có muốn tiếp tục? [Y/N]: n\n"
     ]
    }
   ],
   "source": [
    "# Câu 3: Thêm sản phẩm mới vào bảng Products với các giá trị tương ứng do người dùng nhập vào. \n",
    "# Sau khi thêm, xuất thông báo hỏi người dùng có thêm tiếp hay không (Y/N). \n",
    "# Nếu trả lời Y sẽ cho phép thêm tiếp sản phẩm mới, nếu trả lời N sẽ thoát quá trình thêm sản phẩm.\n",
    "\n",
    "traloi = \"Y\"\n",
    "while traloi==\"Y\":\n",
    "    pname = input(\"Nhập tên sản phẩm: \")\n",
    "    supplierid = input(\"Nhập mã nhà cung cấp: \")\n",
    "    unitprice = input(\"Nhập đơn giá: \")\n",
    "    package = input(\"Nhập hình thức đóng gói: \")\n",
    "    isdiscontinued = input(\"Sản phẩm đã ngừng bán rồi? [Để trống nếu chưa ngừng bán]: \")\n",
    "    data = (pname, sname, unitprice, package, isdiscontinued)\n",
    "\n",
    "    sql = ''' insert into products (productname, supplierid, unitprice, package, isdiscontinued)\n",
    "                value (%s,%s,%s,%s,%s)\n",
    "        '''\n",
    "    cur = conn.cursor()\n",
    "    cur.execute(sql, data)\n",
    "    sql = ''' select * from products where productname = %s '''\n",
    "    data = (pname,)\n",
    "    cur.execute(sql, data)\n",
    "    row = cur.fetchone()\n",
    "    while row:\n",
    "        print(row)\n",
    "        row = cur.fetchone()\n",
    "    \n",
    "    traloi = input(\"Bạn có muốn tiếp tục? [Y/N]: \").upper()\n",
    "    if traloi == \"N\": break  \n"
   ]
  },
  {
   "cell_type": "code",
   "execution_count": 28,
   "metadata": {},
   "outputs": [
    {
     "name": "stdout",
     "output_type": "stream",
     "text": [
      "Nhập OrderID cần xoá: 834\n",
      "Đã xoá thành công.\n"
     ]
    }
   ],
   "source": [
    "# Câu 4: Xóa thông tin đơn đặt hàng theo số đặt hàng (OrderId), trong đó số đặt hàng do người dùng nhập vào\n",
    "orderid = input(\"Nhập OrderID cần xoá: \")\n",
    "data = (orderid,)\n",
    "sql = '''delete from orders where id = %s'''\n",
    "cur.execute(sql, data)\n",
    "sql = '''select * from orders where id = %s'''\n",
    "cur.execute(sql, data)\n",
    "row = cur.fetchone()\n",
    "while row:\n",
    "    print(row)\n",
    "    row = cur.fetchone()\n",
    "print(\"Đã xoá thành công.\")"
   ]
  },
  {
   "cell_type": "code",
   "execution_count": 1,
   "metadata": {},
   "outputs": [
    {
     "ename": "NameError",
     "evalue": "name 'conn' is not defined",
     "output_type": "error",
     "traceback": [
      "\u001b[1;31m---------------------------------------------------------------------------\u001b[0m",
      "\u001b[1;31mNameError\u001b[0m                                 Traceback (most recent call last)",
      "\u001b[1;32m<ipython-input-1-8dd0cd799055>\u001b[0m in \u001b[0;36m<module>\u001b[1;34m\u001b[0m\n\u001b[1;32m----> 1\u001b[1;33m \u001b[0mconn\u001b[0m\u001b[1;33m.\u001b[0m\u001b[0mclose\u001b[0m\u001b[1;33m(\u001b[0m\u001b[1;33m)\u001b[0m\u001b[1;33m\u001b[0m\u001b[1;33m\u001b[0m\u001b[0m\n\u001b[0m",
      "\u001b[1;31mNameError\u001b[0m: name 'conn' is not defined"
     ]
    }
   ],
   "source": [
    "conn.close()"
   ]
  },
  {
   "cell_type": "code",
   "execution_count": null,
   "metadata": {},
   "outputs": [],
   "source": []
  }
 ],
 "metadata": {
  "kernelspec": {
   "display_name": "Python 3",
   "language": "python",
   "name": "python3"
  },
  "language_info": {
   "codemirror_mode": {
    "name": "ipython",
    "version": 3
   },
   "file_extension": ".py",
   "mimetype": "text/x-python",
   "name": "python",
   "nbconvert_exporter": "python",
   "pygments_lexer": "ipython3",
   "version": "3.7.9"
  }
 },
 "nbformat": 4,
 "nbformat_minor": 2
}
