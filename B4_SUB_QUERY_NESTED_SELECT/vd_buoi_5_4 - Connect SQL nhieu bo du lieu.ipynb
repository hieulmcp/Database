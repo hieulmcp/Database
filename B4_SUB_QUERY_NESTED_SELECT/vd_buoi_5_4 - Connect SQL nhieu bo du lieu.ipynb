{
 "cells": [
  {
   "cell_type": "markdown",
   "metadata": {},
   "source": [
    "### Ví dụ thực thi một câu truy vấn với nhiều bộ dữ liệu"
   ]
  },
  {
   "cell_type": "code",
   "execution_count": 1,
   "metadata": {},
   "outputs": [],
   "source": [
    "# bo du lieu gom cac product id\n",
    "# query tinh tong so luong ban cua moi product id"
   ]
  },
  {
   "cell_type": "code",
   "execution_count": 2,
   "metadata": {},
   "outputs": [],
   "source": [
    "from mysql.connector import connect"
   ]
  },
  {
   "cell_type": "code",
   "execution_count": 3,
   "metadata": {},
   "outputs": [],
   "source": [
    "# chuan bi thong tin ket noi\n",
    "server = 'phpmyadmin.laptrinhphp.net'\n",
    "db = 'gd_salesdb'\n",
    "username = 'hv'\n",
    "pwd = '123456'\n",
    "\n",
    "conn = connect(host=server, database=db, user=username, password=pwd)"
   ]
  },
  {
   "cell_type": "code",
   "execution_count": 4,
   "metadata": {},
   "outputs": [],
   "source": [
    "data_list = [{'productid':5}, {'productid':8}, {'productid':9},\n",
    "             {'productid':10}, {'productid':12}]"
   ]
  },
  {
   "cell_type": "code",
   "execution_count": 11,
   "metadata": {},
   "outputs": [
    {
     "name": "stdout",
     "output_type": "stream",
     "text": [
      "productid:  5 --> 298\n",
      "productid:  8 --> 372\n",
      "productid:  9 --> 95\n",
      "productid:  10 --> 742\n",
      "productid:  12 --> 344\n"
     ]
    }
   ],
   "source": [
    "sql = 'SELECT SUM(Quantity) FROM orderitems WHERE ProductId = %(productid)s'\n",
    "cur = conn.cursor()\n",
    "for data in data_list:\n",
    "    cur.execute(sql,data)\n",
    "    result = cur.fetchone()\n",
    "    print('productid: ', data['productid'], '-->', result[0])"
   ]
  },
  {
   "cell_type": "code",
   "execution_count": null,
   "metadata": {},
   "outputs": [],
   "source": []
  }
 ],
 "metadata": {
  "kernelspec": {
   "display_name": "Python 3",
   "language": "python",
   "name": "python3"
  },
  "language_info": {
   "codemirror_mode": {
    "name": "ipython",
    "version": 3
   },
   "file_extension": ".py",
   "mimetype": "text/x-python",
   "name": "python",
   "nbconvert_exporter": "python",
   "pygments_lexer": "ipython3",
   "version": "3.7.9"
  }
 },
 "nbformat": 4,
 "nbformat_minor": 4
}
