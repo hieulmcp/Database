{
 "cells": [
  {
   "cell_type": "code",
   "execution_count": 1,
   "metadata": {},
   "outputs": [],
   "source": [
    "from mysql.connector import connect"
   ]
  },
  {
   "cell_type": "code",
   "execution_count": 15,
   "metadata": {},
   "outputs": [],
   "source": [
    "# chuan bi thong tin ket noi MySQL\n",
    "server ='localhost'\n",
    "db = 'salesdb'\n",
    "username = 'root'\n",
    "pwd = ''\n",
    "\n",
    "# ket noi MySQL\n",
    "conn = connect(host=server, user=username, password=pwd)\n",
    "cur = conn.cursor()"
   ]
  },
  {
   "cell_type": "code",
   "execution_count": 16,
   "metadata": {},
   "outputs": [],
   "source": [
    "# tao database ten la \"saledb\"\n",
    "sql = 'create database salesdb'\n",
    "cur.execute(sql)"
   ]
  },
  {
   "cell_type": "code",
   "execution_count": 17,
   "metadata": {},
   "outputs": [],
   "source": [
    "# ket noi database 'saledb'\n",
    "conn = connect(host=server, database=db, user=username, password=pwd)\n",
    "cur = conn.cursor()"
   ]
  },
  {
   "cell_type": "code",
   "execution_count": 18,
   "metadata": {},
   "outputs": [],
   "source": [
    "sql = ''' create table customers (\n",
    "            Id Int Not Null Primary Key,\n",
    "            FirstName Varchar(40) Not Null,\n",
    "            LastName Varchar(40) Not Null,\n",
    "            City Varchar(40),\n",
    "            Country Varchar(40),\n",
    "            Phone Varchar(20)\n",
    "        )'''\n",
    "cur.execute(sql)"
   ]
  },
  {
   "cell_type": "code",
   "execution_count": 19,
   "metadata": {},
   "outputs": [],
   "source": [
    "sql = ''' create table suppliers (\n",
    "            Id Int Not Null Primary Key,\n",
    "            CompanyName Varchar(40) Not Null,\n",
    "            ContactName Varchar(50) Not Null,\n",
    "            ContactTitle Varchar(40),\n",
    "            City Varchar(40),\n",
    "            Country Varchar(40),\n",
    "            Phone Varchar(30),\n",
    "            Fax Varchar(3)\n",
    "        )'''\n",
    "cur.execute(sql)"
   ]
  },
  {
   "cell_type": "code",
   "execution_count": 21,
   "metadata": {},
   "outputs": [],
   "source": [
    "sql = ''' create table products (\n",
    "            Id Int Not Null Primary Key,\n",
    "            ProductName Varchar(50) Not Null,\n",
    "            SupplierId Int Not Null,\n",
    "            UnitPrice decimal,\n",
    "            Package Varchar(30),\n",
    "            IsDiscontinued Bit\n",
    "        )'''\n",
    "cur.execute(sql)"
   ]
  },
  {
   "cell_type": "code",
   "execution_count": 22,
   "metadata": {},
   "outputs": [],
   "source": [
    "sql = ''' create table orders (\n",
    "            Id Int Not Null Primary Key,\n",
    "            OrderDate DateTime Not Null,\n",
    "            OrderNumber Varchar(10) Not Null,\n",
    "            CustomerId Int Not Null,\n",
    "            TotalAmount Decimal\n",
    "        )'''\n",
    "cur.execute(sql)"
   ]
  },
  {
   "cell_type": "code",
   "execution_count": 24,
   "metadata": {},
   "outputs": [],
   "source": [
    "sql = ''' create table orderitems (\n",
    "            Id Int Not Null Primary Key,\n",
    "            OrderId Int Not Null,\n",
    "            ProductId Int Not Null,\n",
    "            UnitPrice decimal,\n",
    "            Quantity Int\n",
    "        )'''\n",
    "cur.execute(sql)"
   ]
  },
  {
   "cell_type": "code",
   "execution_count": null,
   "metadata": {},
   "outputs": [],
   "source": []
  }
 ],
 "metadata": {
  "kernelspec": {
   "display_name": "Python 3",
   "language": "python",
   "name": "python3"
  },
  "language_info": {
   "codemirror_mode": {
    "name": "ipython",
    "version": 3
   },
   "file_extension": ".py",
   "mimetype": "text/x-python",
   "name": "python",
   "nbconvert_exporter": "python",
   "pygments_lexer": "ipython3",
   "version": "3.7.9"
  }
 },
 "nbformat": 4,
 "nbformat_minor": 4
}
