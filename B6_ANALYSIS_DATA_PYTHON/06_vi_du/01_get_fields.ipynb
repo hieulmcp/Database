{
 "cells": [
  {
   "cell_type": "code",
   "execution_count": 2,
   "metadata": {},
   "outputs": [],
   "source": [
    "import facebook"
   ]
  },
  {
   "cell_type": "code",
   "execution_count": 5,
   "metadata": {},
   "outputs": [],
   "source": [
    "# truy cập bằng USER TOKEN\n",
    "access_token = 'EAAHwWw29kTMBAMqabhFCyqoUUgmoZBCQq8uUp89KapM1JXQRojSoDkuSTPsXJ4ZBe6CzO167KBbQDSZCCQb1B1vNjpa8uoJ48cUGIGTwiOtGaSSBGBilv6PEs9eDbvVKzUZBcVNLRdaxOelzpFwi3fUWi3a5ihtWZCN77OAaRaBbuEcSeRCDX831MzZCR3oFiSCIBkifikVdjvZAZAsUIjit'\n",
    "graph = facebook.GraphAPI(access_token)"
   ]
  },
  {
   "cell_type": "code",
   "execution_count": 6,
   "metadata": {},
   "outputs": [
    {
     "data": {
      "text/plain": [
       "{'name': 'Huong Bui',\n",
       " 'email': 'huongtcbqm@gmail.com',\n",
       " 'birthday': '09/27/1990',\n",
       " 'gender': 'female',\n",
       " 'id': '4106805686054967'}"
      ]
     },
     "execution_count": 6,
     "metadata": {},
     "output_type": "execute_result"
    }
   ],
   "source": [
    "post = graph.get_object(id='me', fields='name, email, birthday, gender') \n",
    "# có thể cần cấp quyền email, quyền user_birthday và phát sinh lại user token\n",
    "post # json"
   ]
  },
  {
   "cell_type": "code",
   "execution_count": 34,
   "metadata": {},
   "outputs": [
    {
     "data": {
      "text/plain": [
       "{'friends': {'data': [], 'summary': {'total_count': 760}},\n",
       " 'id': '4106805686054967'}"
      ]
     },
     "execution_count": 34,
     "metadata": {},
     "output_type": "execute_result"
    }
   ],
   "source": [
    "friends = graph.get_object(id='me', fields='friends') # cấp quyền user_friends\n",
    "friends"
   ]
  },
  {
   "cell_type": "code",
   "execution_count": 11,
   "metadata": {},
   "outputs": [],
   "source": [
    "import requests"
   ]
  },
  {
   "cell_type": "code",
   "execution_count": 21,
   "metadata": {},
   "outputs": [],
   "source": [
    "# dong URL den dia chi tren server\n",
    "# https://graph.facebook.com\n",
    "# v11.0\n",
    "# me?fields=id,name,gender\n",
    "# neu dung nhieu tham so thì dung them dau \"&\": ...&access_token=...\n",
    "result = requests.get('https://graph.facebook.com/v11.0/me?fields=id,name,email,birthday,gender&access_token=' + access_token)"
   ]
  },
  {
   "cell_type": "code",
   "execution_count": 22,
   "metadata": {},
   "outputs": [],
   "source": [
    "result = result.json()"
   ]
  },
  {
   "cell_type": "code",
   "execution_count": 23,
   "metadata": {},
   "outputs": [
    {
     "data": {
      "text/plain": [
       "{'id': '4106805686054967',\n",
       " 'name': 'Huong Bui',\n",
       " 'email': 'huongtcbqm@gmail.com',\n",
       " 'birthday': '09/27/1990',\n",
       " 'gender': 'female'}"
      ]
     },
     "execution_count": 23,
     "metadata": {},
     "output_type": "execute_result"
    }
   ],
   "source": [
    "result"
   ]
  },
  {
   "cell_type": "code",
   "execution_count": 35,
   "metadata": {},
   "outputs": [],
   "source": [
    "result = requests.get('https://graph.facebook.com/v11.0/me/feed?access_token=' + access_token)"
   ]
  },
  {
   "cell_type": "code",
   "execution_count": 36,
   "metadata": {},
   "outputs": [],
   "source": [
    "result = result.json()"
   ]
  },
  {
   "cell_type": "code",
   "execution_count": 37,
   "metadata": {},
   "outputs": [
    {
     "data": {
      "text/plain": [
       "{'data': [{'created_time': '2021-06-12T13:00:30+0000',\n",
       "   'message': 'Đánh dấu 1 mùa lại được coi các troai đẹp biểu diễn ❤❤❤\\n#euro2021',\n",
       "   'id': '4106805686054967_4089232247812311'},\n",
       "  {'created_time': '2021-05-23T00:26:11+0000',\n",
       "   'message': 'Đi bầu nào! \\n#ngayhoitoandan',\n",
       "   'id': '4106805686054967_4029524123783124'},\n",
       "  {'created_time': '2021-05-02T01:44:58+0000',\n",
       "   'id': '4106805686054967_3967257720009765'},\n",
       "  {'created_time': '2021-04-16T08:01:33+0000',\n",
       "   'message': 'Pass the 3rd one! \\n\\nThầy: \"Chúng ta sẽ cùng nhau nấu lẩu! \\n- Matrix, Vector là hải sản \\n- Linear algebra là thịt bò\\n- Probability là tàu hủ \\n- Statistics là các loại rau \\nXong lẩu rồi đó! Giờ chỉ có ăn thôi!\"\\n\\nThầy: \"Mấy cái này có hàm hết rồi, có công thức hết rồi. Nên tui phải dạy sao cho các Anh/Chị đỡ tiếc bốn trệu rữi\"\\n\\nTrò học xong ko nhớ nổi mình là ai luôn!',\n",
       "   'id': '4106805686054967_3922644344471103'},\n",
       "  {'created_time': '2021-04-11T01:39:14+0000',\n",
       "   'message': 'Finally, I did it! \\nCảm ơn tôi vì dù đã rất lê lết nx không bỏ cuộc! \\n#halfmarathon\\n#techcombankmarathon\\n#buocchayvimotvietnamvuottroi',\n",
       "   'id': '4106805686054967_3907579729310898'},\n",
       "  {'created_time': '2021-04-10T21:21:46+0000',\n",
       "   'id': '4106805686054967_3907123519356519'},\n",
       "  {'created_time': '2021-04-09T14:59:51+0000',\n",
       "   'message': 'So crazy!!!',\n",
       "   'id': '4106805686054967_3903294549739416'},\n",
       "  {'created_time': '2021-03-14T11:36:19+0000',\n",
       "   'message': 'Cho tui 1 vé đi tuổi thơ... \\n.\\n.\\n.\\nđể tui hốt lại mấy em này nào!',\n",
       "   'id': '4106805686054967_3824701754265363'},\n",
       "  {'created_time': '2021-02-27T12:22:18+0000',\n",
       "   'message': \"Happy Doctor's Day to my younger sister, and all my friends who are Doctors!\",\n",
       "   'id': '4106805686054967_3786062578129281'},\n",
       "  {'created_time': '2021-02-22T13:46:37+0000',\n",
       "   'message': 'Pass the 2nd one! \\nTks Mr Trần Vinh, Mr Loc Nguyen  😍😍😍\\nThere are 7 ones left 😅😅😅',\n",
       "   'id': '4106805686054967_3765253500210189'},\n",
       "  {'created_time': '2021-01-17T05:05:18+0000',\n",
       "   'message': 'Có người vừa có em mèo cụt đuôi mới!\\n#Grande\\n#LimitedEdition2020\\n#GiftFromMom',\n",
       "   'id': '4106805686054967_3670629469672593'},\n",
       "  {'created_time': '2021-01-04T16:27:38+0000',\n",
       "   'message': 'Vì đất nước mình còn lạ\\nCần chi đâu nước ngoài\\nĐặt chân lên tất cả mọi miền\\nLà ước mơ ta ước hoài\\n\\nTrời thả vạt nắng khiến đám tóc em hoe vàng\\n#Chill\\n#Peaceful',\n",
       "   'id': '4106805686054967_3636878723047668'},\n",
       "  {'created_time': '2021-01-03T08:16:16+0000',\n",
       "   'id': '4106805686054967_3633390776729796'},\n",
       "  {'created_time': '2021-01-02T15:11:06+0000',\n",
       "   'id': '4106805686054967_3631767316892142'},\n",
       "  {'created_time': '2020-12-31T13:16:41+0000',\n",
       "   'message': 'Gửi 2020...\\n\\nĐỪNG LÚC NÀO CŨNG NGHĨ MÌNH CHƯA SẴN SÀNG! \\n\\nChẳng có ai là đã chuẩn bị tinh thần sẵn sàng 100% cả. Khi cơ hội/thách thức xuất hiện, nó ép bạn phải rời xa VÙNG THOẢI MÁI của mình. Điều này đồng nghĩa với việc bạn phải điều chỉnh bản thân và bước vào VÙNG HỌC TẬP!\\n- St -\\n\\nP/S: Viết vài dòng cuối năm cho hay ho vậy chớ thật ra là vì tuần sau sẽ lại sấp mặt vào bài vở!',\n",
       "   'id': '4106805686054967_3625975344138006'},\n",
       "  {'created_time': '2020-12-26T14:51:29+0000',\n",
       "   'message': 'Viết cho một Ngày rực rỡ! \\nRực rỡ vì hoa và quà...\\nRực rỡ vì những nụ cười rạng rỡ...\\n\\nChúc mừng Tân BÁC SĨ 2020!!!\\n------------\\nNgày xửa ngày xưa, có 1 con Heo em lon ton trong ngày nhập trường và buổi lễ đầu tiên của nó là Lễ kết nghĩa Y khoa. Lần đầu tiên Heo chị  biết tới kiểu lễ này. Heo chị lúc ấy vẫn còn lơ tơ mơ, mới đi làm, chỉ biết đến đó để chung vui với Heo em. \\nSau chặng đường vừa DÀI vừa đầy THỬ THÁCH, ngày đặc biệt mong chờ cũng đã đến. Phải công nhận đây có lẽ là Lễ tốt nghiệp cầu kỳ và kéo dài suốt từ sáng đến chiều mà Heo chị từng đến. Cũng đúng thôi vì nó thật sự xứng đáng với hành trình dài đã phấn đấu! Đặc biệt sau 1 năm đầy đau thương vì dịch bệnh thì lại càng hiểu và quý cái nghề này! \\nCó lẽ vì thế mà Heo em từ giờ sẽ được ưu ái gọi là Bác :) :) :) \\n\\nChúc Tân BÁC SĨ 2020 sẽ luôn chân cứng đá mềm trên con đường chinh phục nấc thang vượt trội mới nhé - BÁC SĨ NỘI TRÚ 2020! \\n\\nHeo chị và gia đình mong chờ đến ngày ghép tiếp Bức ảnh thứ 3 của Heo em đấy nhé! \\n\\nLove you!',\n",
       "   'id': '4106805686054967_3613592332042974'},\n",
       "  {'created_time': '2020-12-11T02:10:02+0000',\n",
       "   'message': 'Happy birthday!\\nBest wishes for you!',\n",
       "   'id': '4106805686054967_3571321479603393'},\n",
       "  {'created_time': '2020-11-30T14:15:24+0000',\n",
       "   'id': '4106805686054967_3543428689059339'},\n",
       "  {'created_time': '2020-11-07T04:59:46+0000',\n",
       "   'message': 'Ôi ngon xức xắc luôn chị Phuong Lan Dang\\nLâu lắm rồi em mới ăn lại luôn í. \\nTks chị iu nhiều nhiều nha!',\n",
       "   'id': '4106805686054967_3479934338742108'},\n",
       "  {'created_time': '2020-11-05T09:28:13+0000',\n",
       "   'message': 'Pass 1 môn zoài!\\nCuối tuần này lại tưng bừng thoy Huyen Bui',\n",
       "   'id': '4106805686054967_3474782812590594'},\n",
       "  {'created_time': '2020-10-17T12:22:57+0000',\n",
       "   'message': '...\\nHeo chị: Hôm nào đi thử ko? \\nHeo em: Có :))) Thi xong đi liền!\\n... \\n\\nMừng 1 Heo đã thi xong \\nMừng 1 Heo sinh nhật muộn',\n",
       "   'id': '4106805686054967_3424040224331520'},\n",
       "  {'created_time': '2020-09-28T15:13:07+0000',\n",
       "   'id': '4106805686054967_3368290219906521'},\n",
       "  {'created_time': '2020-09-08T15:16:20+0000',\n",
       "   'id': '4106805686054967_3306761529392724'},\n",
       "  {'created_time': '2020-08-25T11:12:42+0000',\n",
       "   'message': 'Chưa biết viết gì đây\\nĐơn giản là thấy đẹp và lạ',\n",
       "   'id': '4106805686054967_3263664790369065'},\n",
       "  {'created_time': '2020-08-16T14:32:32+0000',\n",
       "   'message': 'Vẫn là ẻm\\nXưa Chằng chịt + Ambiguous + Circular dependency\\nGiờ đỡ hơn tí rồi, hic\\nHọc, học nữa, học mãi, hic',\n",
       "   'id': '4106805686054967_3237906942944850'}],\n",
       " 'paging': {'previous': 'https://graph.facebook.com/v11.0/4106805686054967/feed?access_token=EAAHwWw29kTMBAM0hEoBwZAjizuN4gN2g3il0R4YD4Axa9t2aJkwS33mFPfDjNlmecDMKwnpeRjrrmtZBUOXBbilcqw82aFEN6CLDLplPvLQEK1Tm0C3XFkszFJuZCUWTxcZA6cSb9J6t1BcCTC2wl3uEwfRWopbZBKjUZAkV831bqMIzxjA13MJ5mMajtCKZBi6XJjpFp8Gyb2jjhwzuX3x&__previous=1&since=1623502830&until&__paging_token=enc_AdAr6qvGj664LyZAOeFH7ZCfiZCJoTJLYD5di8qqIPeeM9VmCdnpYkKEIfmXhVdnCwYwUvW5lkaLZC2pO79DuZBOMiGZASZAyJqjsZCcC0XmnSglTStUsZC509rF8ZA3gNmSzIpgS82QcCNPVmmKFaRVazAvRqEyZAq',\n",
       "  'next': 'https://graph.facebook.com/v11.0/4106805686054967/feed?access_token=EAAHwWw29kTMBAM0hEoBwZAjizuN4gN2g3il0R4YD4Axa9t2aJkwS33mFPfDjNlmecDMKwnpeRjrrmtZBUOXBbilcqw82aFEN6CLDLplPvLQEK1Tm0C3XFkszFJuZCUWTxcZA6cSb9J6t1BcCTC2wl3uEwfRWopbZBKjUZAkV831bqMIzxjA13MJ5mMajtCKZBi6XJjpFp8Gyb2jjhwzuX3x&until=1597588352&since&__paging_token=enc_AdDGIZB82NZAk2BjAiyrr2ckZCuMweKuZBQ9119sRFZBx8IR0OOoTNOYVubZBSZAysy6ZCba84oHpZC5S3Nd9LeTcU5ZC9gKGh8wvAFNmW2pw43P1Lajd7I8JbPDKwXYfBuQ3NXoiRcciYzUUqdAUmdxUZCJvLOFM7w&__previous'}}"
      ]
     },
     "execution_count": 37,
     "metadata": {},
     "output_type": "execute_result"
    }
   ],
   "source": [
    "result"
   ]
  },
  {
   "cell_type": "code",
   "execution_count": null,
   "metadata": {},
   "outputs": [],
   "source": []
  }
 ],
 "metadata": {
  "kernelspec": {
   "display_name": "Python 3",
   "language": "python",
   "name": "python3"
  },
  "language_info": {
   "codemirror_mode": {
    "name": "ipython",
    "version": 3
   },
   "file_extension": ".py",
   "mimetype": "text/x-python",
   "name": "python",
   "nbconvert_exporter": "python",
   "pygments_lexer": "ipython3",
   "version": "3.7.9"
  }
 },
 "nbformat": 4,
 "nbformat_minor": 4
}
